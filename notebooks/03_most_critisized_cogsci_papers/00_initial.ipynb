{
 "cells": [
  {
   "cell_type": "markdown",
   "metadata": {},
   "source": [
    "# the worst yet most influental"
   ]
  },
  {
   "cell_type": "markdown",
   "metadata": {},
   "source": [
    "## the procedure\n",
    "\n",
    "0. getting the list of most influential publications (and there are a couple of ways to operationalize this, for example by citations to articles or Altmetrics, ie. social media mentions)\n",
    "obvioud start metrics: citation and altmetric attention scores\n",
    "1. Then you could run sentiment analysis on these citations, so you would need to get a corpus of work that cites these most influential publications, and then find citations in particular paragraphs. My experiments show that it's basically useless to use traditional citation sentiment models but ChatGPT or similar models do it very well when prompted appropriately.\n",
    "1. You can basically do categorization of sentiment in the same step using ChatGPT (well, practically speaking, you probably want to use the API to call the OpenAI davinci model). This could be a nice dataset. \n",
    "1. The results would have to be validated with human judgement.\n",
    "\n",
    "1. a separate question of why papers are most commonly criticized, what causes retractions, if anything, etc.\n",
    "This might require a bit of further thinking\n",
    "1. you could possibly propose something as an empirical hypothesis to be tested.\n",
    "1. go for a preregistration, and maybe a registered report paper. This way, you could get some feedback early on, while doing fairly easy NLP stuff (this is not very complex with gpt)."
   ]
  },
  {
   "cell_type": "markdown",
   "metadata": {},
   "source": []
  },
  {
   "cell_type": "markdown",
   "metadata": {},
   "source": [
    "problem: access to papers\n",
    "- `Dimensions.ai` are in principle available for free but getting one's project approved by them takes literally ages\n",
    "- `Lens.org` may work better but I am unsure of their quality.\n",
    "- Maybe `OpenAlex` could be a decent open alternative. Our friends in Helsinki work with this data source so maybe they could share some experience. "
   ]
  },
  {
   "cell_type": "markdown",
   "metadata": {},
   "source": []
  }
 ],
 "metadata": {
  "language_info": {
   "name": "python"
  }
 },
 "nbformat": 4,
 "nbformat_minor": 2
}
